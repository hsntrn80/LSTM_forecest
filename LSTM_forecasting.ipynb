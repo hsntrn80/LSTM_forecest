{
 "cells": [
  {
   "cell_type": "markdown",
   "metadata": {},
   "source": [
    "Author: “Sumana Biswas”\n",
    "Copyright: “Sumana Biswas 2021”\n"
   ]
  },
  {
   "cell_type": "markdown",
   "metadata": {},
   "source": [
    "#LSTM model to forecast some influential features specification "
   ]
  },
  {
   "cell_type": "markdown",
   "metadata": {},
   "source": [
    "# Install Python libraries"
   ]
  },
  {
   "cell_type": "code",
   "execution_count": 2,
   "metadata": {},
   "outputs": [],
   "source": [
    "from keras.models import Sequential"
   ]
  },
  {
   "cell_type": "code",
   "execution_count": 9,
   "metadata": {},
   "outputs": [],
   "source": [
    "from keras.layers import Dense, LSTM"
   ]
  },
  {
   "cell_type": "code",
   "execution_count": 10,
   "metadata": {},
   "outputs": [],
   "source": [
    "from numpy import array"
   ]
  },
  {
   "cell_type": "code",
   "execution_count": 11,
   "metadata": {},
   "outputs": [],
   "source": [
    "from numpy.random import uniform"
   ]
  },
  {
   "cell_type": "code",
   "execution_count": 12,
   "metadata": {},
   "outputs": [],
   "source": [
    "from numpy import hstack"
   ]
  },
  {
   "cell_type": "code",
   "execution_count": 13,
   "metadata": {},
   "outputs": [],
   "source": [
    "import matplotlib.pyplot as plt"
   ]
  },
  {
   "cell_type": "code",
   "execution_count": 14,
   "metadata": {},
   "outputs": [],
   "source": [
    "from sklearn.model_selection import train_test_split"
   ]
  },
  {
   "cell_type": "code",
   "execution_count": 15,
   "metadata": {},
   "outputs": [],
   "source": [
    "from sklearn.metrics import mean_squared_error"
   ]
  },
  {
   "cell_type": "code",
   "execution_count": 16,
   "metadata": {},
   "outputs": [],
   "source": [
    "from sklearn.preprocessing import MinMaxScaler"
   ]
  },
  {
   "cell_type": "code",
   "execution_count": 18,
   "metadata": {},
   "outputs": [],
   "source": [
    "import pandas as pd\n"
   ]
  },
  {
   "cell_type": "code",
   "execution_count": 19,
   "metadata": {},
   "outputs": [],
   "source": [
    "from keras.layers import Dropout"
   ]
  },
  {
   "cell_type": "markdown",
   "metadata": {},
   "source": [
    "# Data Set \n",
    "# Loading data\n"
   ]
  },
  {
   "cell_type": "code",
   "execution_count": 20,
   "metadata": {},
   "outputs": [],
   "source": [
    "dataset_forcasting= pd.read_csv('C:\\\\Users\\\\z5058566\\\\Desktop\\\\Test SUP\\\\Smartphone.csv')"
   ]
  },
  {
   "cell_type": "markdown",
   "metadata": {},
   "source": [
    "# Input data"
   ]
  },
  {
   "cell_type": "code",
   "execution_count": 21,
   "metadata": {},
   "outputs": [],
   "source": [
    "X=dataset_forcasting[['Display size','DR (Horizontal)','DR (Vertical)','DRAM memory (MB)','Flash memory (min)','Flash memory (max)','Internet &connectivity-2','Bluetooth-2','Battery capacity','Battery Life (Web-3G)','GPS','Camera','Number of carera','Video','Front Camera','Height','Width','Depth','Sensors','Casing (housing parts) /weight','Min','Max']]"
   ]
  },
  {
   "cell_type": "markdown",
   "metadata": {},
   "source": [
    "# Target"
   ]
  },
  {
   "cell_type": "code",
   "execution_count": 22,
   "metadata": {},
   "outputs": [],
   "source": [
    "y=dataset_forcasting[['Touchscreen size','Touchscreen technology-2','OS','Chipset','CPU','Protection']]"
   ]
  },
  {
   "cell_type": "markdown",
   "metadata": {},
   "source": [
    "# Data normalization"
   ]
  },
  {
   "cell_type": "code",
   "execution_count": 29,
   "metadata": {},
   "outputs": [],
   "source": [
    "scalerx = MinMaxScaler( feature_range=(0, 1) )"
   ]
  },
  {
   "cell_type": "code",
   "execution_count": 30,
   "metadata": {},
   "outputs": [],
   "source": [
    "scalery = MinMaxScaler( feature_range=(0, 1) )\n"
   ]
  },
  {
   "cell_type": "code",
   "execution_count": 31,
   "metadata": {},
   "outputs": [],
   "source": [
    "datax = scalerx.fit_transform( X )"
   ]
  },
  {
   "cell_type": "code",
   "execution_count": 32,
   "metadata": {},
   "outputs": [],
   "source": [
    "datay = scalery.fit_transform( y )"
   ]
  },
  {
   "cell_type": "markdown",
   "metadata": {},
   "source": [
    "#Spliting data into subsets (training and test data)"
   ]
  },
  {
   "cell_type": "code",
   "execution_count": 33,
   "metadata": {},
   "outputs": [],
   "source": [
    "X_train, X_test, y_train, y_test = train_test_split(datax, datay, test_size=0.3, shuffle=False)\n"
   ]
  },
  {
   "cell_type": "markdown",
   "metadata": {},
   "source": [
    "# Print data"
   ]
  },
  {
   "cell_type": "code",
   "execution_count": null,
   "metadata": {},
   "outputs": [],
   "source": [
    "print(X_train)\n",
    "print(y_train)\n"
   ]
  },
  {
   "cell_type": "markdown",
   "metadata": {},
   "source": [
    "# Transforming data for the LSTM model (Data layer reformation into 3D vector)"
   ]
  },
  {
   "cell_type": "code",
   "execution_count": 34,
   "metadata": {},
   "outputs": [],
   "source": [
    "X_train = X_train.reshape((X_train.shape[0],1,X_train.shape[1]))"
   ]
  },
  {
   "cell_type": "code",
   "execution_count": 35,
   "metadata": {},
   "outputs": [],
   "source": [
    "X_test = X_test.reshape((X_test.shape[0],1, X_test.shape[1]))"
   ]
  },
  {
   "cell_type": "markdown",
   "metadata": {},
   "source": [
    "# Print train data"
   ]
  },
  {
   "cell_type": "code",
   "execution_count": 36,
   "metadata": {},
   "outputs": [
    {
     "name": "stdout",
     "output_type": "stream",
     "text": [
      "(10, 1, 22)\n"
     ]
    }
   ],
   "source": [
    "print(X_train.shape)"
   ]
  },
  {
   "cell_type": "code",
   "execution_count": 37,
   "metadata": {},
   "outputs": [
    {
     "name": "stdout",
     "output_type": "stream",
     "text": [
      "(10, 6)\n"
     ]
    }
   ],
   "source": [
    "print(y_train.shape)"
   ]
  },
  {
   "cell_type": "markdown",
   "metadata": {},
   "source": [
    "# LSTM model generation "
   ]
  },
  {
   "cell_type": "code",
   "execution_count": 153,
   "metadata": {},
   "outputs": [
    {
     "name": "stdout",
     "output_type": "stream",
     "text": [
      "Model: \"sequential_10\"\n",
      "_________________________________________________________________\n",
      "Layer (type)                 Output Shape              Param #   \n",
      "=================================================================\n",
      "lstm_20 (LSTM)               (None, 1, 62)             21080     \n",
      "_________________________________________________________________\n",
      "lstm_21 (LSTM)               (None, 32)                12160     \n",
      "_________________________________________________________________\n",
      "dense_10 (Dense)             (None, 6)                 198       \n",
      "=================================================================\n",
      "Total params: 33,438\n",
      "Trainable params: 33,438\n",
      "Non-trainable params: 0\n",
      "_________________________________________________________________\n"
     ]
    }
   ],
   "source": [
    "model = Sequential()\n",
    "model.add(LSTM(62, activation='tanh', return_sequences=True, input_shape=(X_train.shape[1], X_train.shape[2])))\n",
    "model.add(LSTM(32, activation='tanh'))\n",
    "model.add(Dense(y_train.shape[1]))\n",
    "model.compile(optimizer='adam', loss='mse')\n",
    "model.summary()"
   ]
  },
  {
   "cell_type": "markdown",
   "metadata": {},
   "source": [
    "# Model fitting"
   ]
  },
  {
   "cell_type": "code",
   "execution_count": 154,
   "metadata": {},
   "outputs": [],
   "source": [
    "history=model.fit(X_train, y_train, validation_data=(X_test, y_test), epochs=100, verbose=0)"
   ]
  },
  {
   "cell_type": "markdown",
   "metadata": {},
   "source": [
    "# Plot"
   ]
  },
  {
   "cell_type": "code",
   "execution_count": 105,
   "metadata": {},
   "outputs": [
    {
     "data": {
      "image/png": "[encoded data removed]",
      "text/plain": [
       "<Figure size 432x288 with 1 Axes>"
      ]
     },
     "metadata": {
      "needs_background": "light"
     },
     "output_type": "display_data"
    }
   ],
   "source": [
    "plt.plot(history.history['loss'])\n",
    "plt.plot(history.history['val_loss'])\n",
    "plt.title('model loss')\n",
    "plt.ylabel('loss')\n",
    "plt.xlabel('epoch')\n",
    "plt.legend(['train', 'test'], loc='upper right')\n",
    "plt.savefig('MSE_24.png')\n",
    "plt.show()"
   ]
  },
  {
   "cell_type": "markdown",
   "metadata": {},
   "source": [
    "# Prediction"
   ]
  },
  {
   "cell_type": "code",
   "execution_count": 155,
   "metadata": {},
   "outputs": [],
   "source": [
    "y_pred = model.predict(X_test, verbose=0)"
   ]
  },
  {
   "cell_type": "code",
   "execution_count": 65,
   "metadata": {},
   "outputs": [
    {
     "name": "stdout",
     "output_type": "stream",
     "text": [
      "[[0.76125777 0.64622664 0.8419294  0.91546714 0.8948324  0.9118862 ]\n",
      " [0.5969742  0.5665255  0.79190373 0.86401296 0.8494846  0.80598545]\n",
      " [0.5201579  0.50477093 0.73646486 0.8092676  0.7946275  0.73772705]\n",
      " [0.41586137 0.3073337  0.5174904  0.53984326 0.5560328  0.5308967 ]\n",
      " [0.10627525 0.12075986 0.26810318 0.32431576 0.29420403 0.25435007]]\n"
     ]
    }
   ],
   "source": [
    "print(y_pred)"
   ]
  },
  {
   "cell_type": "markdown",
   "metadata": {},
   "source": [
    " # Data de-normalization"
   ]
  },
  {
   "cell_type": "code",
   "execution_count": 156,
   "metadata": {},
   "outputs": [],
   "source": [
    "y_pred_denorm = scalery.inverse_transform( y_pred )"
   ]
  },
  {
   "cell_type": "code",
   "execution_count": 156,
   "metadata": {},
   "outputs": [
    {
     "name": "stdout",
     "output_type": "stream",
     "text": [
      "[[ 6.0250416  4.4741855 12.361812  12.56585   12.512398   6.410573 ]\n",
      " [ 5.7700095  4.2973433 12.251866  12.450789  12.184973   6.055047 ]\n",
      " [ 5.6665936  4.08358   12.0411    12.172713  11.798483   5.776595 ]\n",
      " [ 5.5381174  3.2786045 11.091787  10.78211   10.286959   4.782035 ]\n",
      " [ 4.9335465  2.6312647 10.053088   9.621318   8.594649   3.4420526]]\n"
     ]
    }
   ],
   "source": [
    "print(y_pred_denorm)"
   ]
  },
  {
   "cell_type": "code",
   "execution_count": 114,
   "metadata": {},
   "outputs": [
    {
     "name": "stdout",
     "output_type": "stream",
     "text": [
      "[[1.         1.         1.         1.         1.         1.        ]\n",
      " [1.         0.5        0.75       0.8        0.83333333 0.8       ]\n",
      " [0.61111111 0.5        0.75       0.8        0.83333333 0.8       ]\n",
      " [0.61111111 0.5        0.525      0.6        0.66666667 0.8       ]\n",
      " [0.44444444 0.25       0.5        0.6        0.5        0.6       ]\n",
      " [0.         0.25       1.         1.         1.         0.6       ]\n",
      " [0.         0.25       0.5        0.6        0.5        0.6       ]\n",
      " [0.44444444 0.         0.         0.2        0.16666667 0.2       ]\n",
      " [0.         0.25       0.25       0.4        0.33333333 0.4       ]\n",
      " [0.44444444 0.         0.         0.         0.         0.        ]]\n"
     ]
    }
   ],
   "source": [
    "print(y_train)"
   ]
  },
  {
   "cell_type": "code",
   "execution_count": 97,
   "metadata": {},
   "outputs": [
    {
     "name": "stdout",
     "output_type": "stream",
     "text": [
      "[[0.61111111 1.         1.         1.         1.         1.        ]\n",
      " [0.77777778 0.75       1.         1.         1.         0.8       ]\n",
      " [0.77777778 0.75       0.75       0.8        0.83333333 0.8       ]\n",
      " [0.44444444 0.25       0.5        0.4        0.33333333 0.4       ]\n",
      " [0.         0.         0.         0.2        0.16666667 0.2       ]]\n"
     ]
    }
   ],
   "source": [
    "print(y_test)"
   ]
  },
  {
   "cell_type": "code",
   "execution_count": 136,
   "metadata": {},
   "outputs": [],
   "source": [
    "y_test_denorm = scalery.inverse_transform( y_test)"
   ]
  },
  {
   "cell_type": "code",
   "execution_count": 45,
   "metadata": {},
   "outputs": [
    {
     "name": "stdout",
     "output_type": "stream",
     "text": [
      "[[ 5.8  6.  13.  13.  13.   7. ]\n",
      " [ 6.1  5.  13.  13.  13.   6. ]\n",
      " [ 6.1  5.  12.  12.  12.   6. ]\n",
      " [ 5.5  3.  11.  10.   9.   4. ]\n",
      " [ 4.7  2.   9.   9.   8.   3. ]]\n"
     ]
    }
   ],
   "source": [
    "print(y_test_denorm)"
   ]
  },
  {
   "cell_type": "markdown",
   "metadata": {},
   "source": [
    "# Plot results"
   ]
  },
  {
   "cell_type": "code",
   "execution_count": 160,
   "metadata": {
    "collapsed": true,
    "jupyter": {
     "outputs_hidden": true
    }
   },
   "outputs": [
    {
     "data": {
      "image/png": "[encoded data removed]",
      "text/plain": [
       "<Figure size 432x288 with 1 Axes>"
      ]
     },
     "metadata": {
      "needs_background": "light"
     },
     "output_type": "display_data"
    }
   ],
   "source": [
    "x_ax = range(len(X_test))\n",
    "plt.title(\"Touchscreen technology\")\n",
    "plt.plot(x_ax, y_test_denorm[:,1],color='blue', label=\"Actual\")\n",
    "\n",
    "plt.plot(x_ax, y_pred_denorm[:,1],color='red', label=\"Predicted\")\n",
    "plt.legend()\n",
    "plt.ylabel('Actual and predicted values')\n",
    "plt.xlabel('5 sets of data points')\n",
    "plt.savefig('Plot_24.png')\n",
    "plt.show()"
   ]
  },
  {
   "cell_type": "code",
   "execution_count": 185,
   "metadata": {},
   "outputs": [
    {
     "name": "stdout",
     "output_type": "stream",
     "text": [
      "y1 MSE:0.0850\n"
     ]
    }
   ],
   "source": [
    "print(\"y1 MSE:%.4f\" % mean_squared_error(y_test_denorm[:,0], y_pred_denorm[:,0]))"
   ]
  },
  {
   "cell_type": "code",
   "execution_count": 161,
   "metadata": {
    "collapsed": true,
    "jupyter": {
     "outputs_hidden": true
    }
   },
   "outputs": [
    {
     "data": {
      "image/png": "[encoded data removed]",
      "text/plain": [
       "<Figure size 432x288 with 1 Axes>"
      ]
     },
     "metadata": {
      "needs_background": "light"
     },
     "output_type": "display_data"
    }
   ],
   "source": [
    "x_ax = range(len(X_test))\n",
    "plt.title(\"Operating System\")\n",
    "plt.plot(x_ax, y_test_denorm[:,2], color='blue', label=\"Actual\")\n",
    "\n",
    "plt.plot(x_ax, y_pred_denorm[:,2],color='red', label=\"Predicted\")\n",
    "plt.legend()\n",
    "plt.ylabel('Actual and predicted values')\n",
    "plt.xlabel('5 sets of data points')\n",
    "plt.savefig('Plot_34.png')\n",
    "plt.show()"
   ]
  },
  {
   "cell_type": "code",
   "execution_count": 162,
   "metadata": {
    "collapsed": true,
    "jupyter": {
     "outputs_hidden": true
    }
   },
   "outputs": [
    {
     "data": {
      "image/png": "[encoded data removed]",
      "text/plain": [
       "<Figure size 432x288 with 1 Axes>"
      ]
     },
     "metadata": {
      "needs_background": "light"
     },
     "output_type": "display_data"
    }
   ],
   "source": [
    "x_ax = range(len(X_test))\n",
    "plt.title(\"Chipset\")\n",
    "plt.plot(x_ax, y_test_denorm[:,3], color='blue', label=\"Actual\")\n",
    "\n",
    "plt.plot(x_ax, y_pred_denorm[:,3],color='red', label=\"Predicted\")\n",
    "plt.legend()\n",
    "plt.ylabel('Actual and predicted values')\n",
    "plt.xlabel('5 sets of data points')\n",
    "plt.savefig('Plot_44.png')\n",
    "plt.show()"
   ]
  },
  {
   "cell_type": "code",
   "execution_count": 163,
   "metadata": {
    "collapsed": true,
    "jupyter": {
     "outputs_hidden": true
    }
   },
   "outputs": [
    {
     "data": {
      "image/png": "[encoded data removed]",
      "text/plain": [
       "<Figure size 432x288 with 1 Axes>"
      ]
     },
     "metadata": {
      "needs_background": "light"
     },
     "output_type": "display_data"
    }
   ],
   "source": [
    "x_ax = range(len(X_test))\n",
    "plt.title(\"Processor\")\n",
    "plt.plot(x_ax, y_test_denorm[:,4], color='blue', label=\"Actual\")\n",
    "\n",
    "plt.plot(x_ax, y_pred_denorm[:,4],color='red', label=\"Predicted\")\n",
    "plt.legend()\n",
    "plt.ylabel('Actual and predicted values')\n",
    "plt.xlabel('5 sets of data points')\n",
    "plt.savefig('Plot_54.png')\n",
    "plt.show()"
   ]
  },
  {
   "cell_type": "code",
   "execution_count": 164,
   "metadata": {
    "collapsed": true,
    "jupyter": {
     "outputs_hidden": true
    }
   },
   "outputs": [
    {
     "data": {
      "image/png": "[encoded data removed]",
      "text/plain": [
       "<Figure size 432x288 with 1 Axes>"
      ]
     },
     "metadata": {
      "needs_background": "light"
     },
     "output_type": "display_data"
    }
   ],
   "source": [
    "x_ax = range(len(X_test))\n",
    "plt.title(\"Protection\")\n",
    "plt.plot(x_ax, y_test_denorm[:,5], color='blue', label=\"Actual\")\n",
    "\n",
    "plt.plot(x_ax, y_pred_denorm[:,5],color='red', label=\"Predicted\")\n",
    "plt.legend()\n",
    "plt.ylabel('Actual and predicted values')\n",
    "plt.xlabel('5 sets of data points')\n",
    "plt.savefig('Plot_64.png')\n",
    "plt.show()"
   ]
  },
  {
   "cell_type": "code",
   "execution_count": 165,
   "metadata": {
    "collapsed": true,
    "jupyter": {
     "outputs_hidden": true
    }
   },
   "outputs": [
    {
     "data": {
      "image/png": "[encoded data removed]",
      "text/plain": [
       "<Figure size 432x288 with 1 Axes>"
      ]
     },
     "metadata": {
      "needs_background": "light"
     },
     "output_type": "display_data"
    }
   ],
   "source": [
    "x_ax = range(len(X_test))\n",
    "plt.title(\"Touchscreen size\")\n",
    "plt.plot(x_ax, y_test_denorm[:,0], color='blue', label=\"Actual\")\n",
    "\n",
    "plt.plot(x_ax, y_pred_denorm[:,0],color='red', label=\"Predicted\")\n",
    "plt.legend()\n",
    "plt.ylabel('Actual and predicted values')\n",
    "plt.xlabel('5 sets of data points')\n",
    "plt.savefig('Plot_14.png')\n",
    "plt.show()"
   ]
  },
  {
   "cell_type": "markdown",
   "metadata": {},
   "source": [
    "# Preformance measure"
   ]
  },
  {
   "cell_type": "code",
   "execution_count": 74,
   "metadata": {},
   "outputs": [],
   "source": [
    "from math import sqrt"
   ]
  },
  {
   "cell_type": "code",
   "execution_count": 157,
   "metadata": {},
   "outputs": [
    {
     "name": "stdout",
     "output_type": "stream",
     "text": [
      "MSE: 0.395074\n",
      "RMSE: 0.628549\n"
     ]
    }
   ],
   "source": [
    "mse = mean_squared_error(y_test_denorm, y_pred_denorm)\n",
    "print('MSE: %f' % mse)\n",
    "rmse = sqrt(mse)\n",
    "print('RMSE: %f' % rmse)"
   ]
  },
  {
   "cell_type": "code",
   "execution_count": 55,
   "metadata": {},
   "outputs": [],
   "source": [
    "forecast_errors= [y_test_denorm-y_pred_denorm]"
   ]
  },
  {
   "cell_type": "code",
   "execution_count": 77,
   "metadata": {},
   "outputs": [],
   "source": [
    "from sklearn.metrics import mean_absolute_error"
   ]
  },
  {
   "cell_type": "code",
   "execution_count": 158,
   "metadata": {},
   "outputs": [
    {
     "name": "stdout",
     "output_type": "stream",
     "text": [
      "MAE: 0.520221\n"
     ]
    }
   ],
   "source": [
    "mae = mean_absolute_error(y_test_denorm, y_pred_denorm)\n",
    "print('MAE: %f' % mae)"
   ]
  },
  {
   "cell_type": "code",
   "execution_count": null,
   "metadata": {},
   "outputs": [],
   "source": []
  }
 ],
 "metadata": {
  "kernelspec": {
   "display_name": "Python 3",
   "language": "python",
   "name": "python3"
  },
  "language_info": {
   "codemirror_mode": {
    "name": "ipython",
    "version": 3
   },
   "file_extension": ".py",
   "mimetype": "text/x-python",
   "name": "python",
   "nbconvert_exporter": "python",
   "pygments_lexer": "ipython3",
   "version": "3.7.6"
  }
 },
 "nbformat": 4,
 "nbformat_minor": 4
}
